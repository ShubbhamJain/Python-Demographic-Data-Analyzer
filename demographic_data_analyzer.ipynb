{
 "cells": [
  {
   "cell_type": "code",
   "execution_count": null,
   "metadata": {},
   "outputs": [],
   "source": [
    "import pandas as pd\n",
    "\n",
    "try:\n",
    "    url = './adult.data.csv'\n",
    "    df = pd.read_csv(url, na_values=['-', '?', ''])\n",
    "\n",
    "except Exception as e:\n",
    "    print(e)"
   ]
  },
  {
   "cell_type": "code",
   "execution_count": null,
   "metadata": {},
   "outputs": [],
   "source": [
    "race_count = df['race'].value_counts()\n",
    "print(race_count)"
   ]
  },
  {
   "cell_type": "code",
   "execution_count": null,
   "metadata": {},
   "outputs": [],
   "source": [
    "sumOfAge = round(df.query('sex==\"Male\"')['age'].mean(), 1)\n",
    "print(sumOfAge)"
   ]
  },
  {
   "cell_type": "code",
   "execution_count": null,
   "metadata": {},
   "outputs": [],
   "source": [
    "totalRows = df.shape[0]\n",
    "peopleWithBachelorsDeg = df.query('education == \"Bachelors\"')['education'].count()\n",
    "percentage_bachelors = round((peopleWithBachelorsDeg / totalRows) * 100, 1)\n",
    "print(percentage_bachelors)"
   ]
  },
  {
   "cell_type": "code",
   "execution_count": null,
   "metadata": {},
   "outputs": [],
   "source": [
    "higher_education: pd.DataFrame = df[df['education'].isin(['Bachelors', 'Masters', 'Doctorate'])]\n",
    "higher_education_count = higher_education['salary'].count()\n",
    "higher_education_with_more_sal_count = higher_education.query('salary == \">50K\"')['salary'].count()\n",
    "higher_education_rich = round((higher_education_with_more_sal_count / higher_education_count) * 100, 1)\n",
    "print(higher_education_rich)"
   ]
  },
  {
   "cell_type": "code",
   "execution_count": null,
   "metadata": {},
   "outputs": [],
   "source": [
    "lower_education: pd.DataFrame = df[~df['education'].isin(['Bachelors', 'Masters', 'Doctorate'])]\n",
    "lower_education_count = lower_education['salary'].count()\n",
    "lower_education_with_more_sal_count = lower_education.query('salary == \">50K\"')['salary'].count()\n",
    "lower_education_rich = round((lower_education_with_more_sal_count / lower_education_count) * 100, 1)\n",
    "print(lower_education_rich)"
   ]
  },
  {
   "cell_type": "code",
   "execution_count": null,
   "metadata": {},
   "outputs": [],
   "source": [
    "min_work_hours = df['hours-per-week'].min()\n",
    "print(min_work_hours)"
   ]
  },
  {
   "cell_type": "code",
   "execution_count": null,
   "metadata": {},
   "outputs": [],
   "source": [
    "min_work_hours = df['hours-per-week'].min()\n",
    "\n",
    "num_min_workers: pd.DataFrame = df[df['hours-per-week'].isin([min_work_hours])]\n",
    "\n",
    "num_min_workers_count = num_min_workers['salary'].count()\n",
    "min_work_hours_with_more_sal_count = num_min_workers.query('salary == \">50K\"')['salary'].count()\n",
    "\n",
    "rich_percentage = round((min_work_hours_with_more_sal_count/num_min_workers_count)*100, 1)\n",
    "print(rich_percentage)"
   ]
  },
  {
   "cell_type": "code",
   "execution_count": null,
   "metadata": {},
   "outputs": [],
   "source": [
    "countries = df.dropna()['native-country'].unique()\n",
    "highest_earners_total_in_countries = pd.Series(dtype=object)\n",
    "per_of_highest_earners_in_countries = pd.Series(dtype=object)\n",
    "\n",
    "for i in countries:\n",
    "    country = df[df['native-country'] == i]\n",
    "    highest_earners_in_country = country[country['salary'] == '>50K']\n",
    "\n",
    "    country_totals = pd.Series(country['native-country']).value_counts()\n",
    "    highest_earners_in_country_totals =  pd.Series(highest_earners_in_country['native-country']).value_counts()\n",
    "    \n",
    "    per_of_highest_earners_in_country = round((highest_earners_in_country_totals / country_totals) * 100, 1)\n",
    "    \n",
    "    highest_earners_total_in_countries = pd.concat([highest_earners_total_in_countries, country_totals])\n",
    "    per_of_highest_earners_in_countries = pd.concat([per_of_highest_earners_in_countries, per_of_highest_earners_in_country])\n",
    "\n",
    "per_of_highest_earners_in_countries = per_of_highest_earners_in_countries.dropna().sort_values()\n",
    "\n",
    "highest_earning_country = per_of_highest_earners_in_countries.last_valid_index()\n",
    "highest_earning_country_percentage = per_of_highest_earners_in_countries[highest_earning_country]\n",
    "\n",
    "print(highest_earning_country, highest_earning_country_percentage)"
   ]
  },
  {
   "cell_type": "code",
   "execution_count": null,
   "metadata": {},
   "outputs": [],
   "source": [
    "highest_earners_india = df.loc[(df['salary'] == \">50K\") & (df['native-country'] == \"India\")]\n",
    "highest_earners_india_occupations = highest_earners_india['occupation'].value_counts()\n",
    "top_IN_occupation = highest_earners_india_occupations.sort_values().last_valid_index()\n",
    "print(top_IN_occupation)"
   ]
  }
 ],
 "metadata": {
  "interpreter": {
   "hash": "b0fa6594d8f4cbf19f97940f81e996739fb7646882a419484c72d19e05852a7e"
  },
  "kernelspec": {
   "display_name": "Python 3.9.10 64-bit",
   "language": "python",
   "name": "python3"
  },
  "language_info": {
   "codemirror_mode": {
    "name": "ipython",
    "version": 3
   },
   "file_extension": ".py",
   "mimetype": "text/x-python",
   "name": "python",
   "nbconvert_exporter": "python",
   "pygments_lexer": "ipython3",
   "version": "3.9.10"
  },
  "orig_nbformat": 4
 },
 "nbformat": 4,
 "nbformat_minor": 2
}
